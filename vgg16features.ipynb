{
  "nbformat": 4,
  "nbformat_minor": 0,
  "metadata": {
    "colab": {
      "name": "vgg16features.ipynb",
      "provenance": [],
      "toc_visible": true,
      "mount_file_id": "1ah22UkHA8EGGivZjSlNHjAeSh7MVd8eO",
      "authorship_tag": "ABX9TyNCSXXdZ+Rk50QpcTjBJCIq",
      "include_colab_link": true
    },
    "kernelspec": {
      "name": "python3",
      "display_name": "Python 3"
    },
    "language_info": {
      "name": "python"
    },
    "accelerator": "GPU"
  },
  "cells": [
    {
      "cell_type": "markdown",
      "metadata": {
        "id": "view-in-github",
        "colab_type": "text"
      },
      "source": [
        "<a href=\"https://colab.research.google.com/github/Rushil231100/multilabelled-multimodal-retrieval/blob/Version2_own_matric/vgg16features.ipynb\" target=\"_parent\"><img src=\"https://colab.research.google.com/assets/colab-badge.svg\" alt=\"Open In Colab\"/></a>"
      ]
    },
    {
      "cell_type": "code",
      "metadata": {
        "id": "OcR5zmJhEa1n"
      },
      "source": [
        "from scipy.io import savemat\n",
        "import os"
      ],
      "execution_count": 1,
      "outputs": []
    },
    {
      "cell_type": "code",
      "metadata": {
        "id": "Pq0L8S7o7Ct0",
        "colab": {
          "base_uri": "https://localhost:8080/"
        },
        "outputId": "dea62d45-64eb-48fa-ab61-9d53161c69db"
      },
      "source": [
        "from tensorflow.keras.applications.vgg16 import VGG16 , preprocess_input\n",
        "from tensorflow.keras.applications.resnet import ResNet101 , preprocess_input\n",
        "from tensorflow.keras.preprocessing import image\n",
        "from tensorflow.keras.models import Model\n",
        "import numpy as np\n",
        "print(\"Dome\")"
      ],
      "execution_count": 5,
      "outputs": [
        {
          "output_type": "stream",
          "text": [
            "Dome\n"
          ],
          "name": "stdout"
        }
      ]
    },
    {
      "cell_type": "code",
      "metadata": {
        "id": "sVs70pqm6m--",
        "colab": {
          "base_uri": "https://localhost:8080/"
        },
        "outputId": "ce4b1400-8818-4317-80b2-410f45725444"
      },
      "source": [
        "base_model = VGG16(weights = 'imagenet')\n",
        "model = Model(inputs=base_model.input,outputs=base_model.get_layer('fc1').output)\n",
        "model.summary()\n",
        "for layer in base_model.layers:\n",
        "    print(layer.name)"
      ],
      "execution_count": null,
      "outputs": [
        {
          "output_type": "stream",
          "text": [
            "Model: \"model_7\"\n",
            "_________________________________________________________________\n",
            "Layer (type)                 Output Shape              Param #   \n",
            "=================================================================\n",
            "input_10 (InputLayer)        [(None, 224, 224, 3)]     0         \n",
            "_________________________________________________________________\n",
            "block1_conv1 (Conv2D)        (None, 224, 224, 64)      1792      \n",
            "_________________________________________________________________\n",
            "block1_conv2 (Conv2D)        (None, 224, 224, 64)      36928     \n",
            "_________________________________________________________________\n",
            "block1_pool (MaxPooling2D)   (None, 112, 112, 64)      0         \n",
            "_________________________________________________________________\n",
            "block2_conv1 (Conv2D)        (None, 112, 112, 128)     73856     \n",
            "_________________________________________________________________\n",
            "block2_conv2 (Conv2D)        (None, 112, 112, 128)     147584    \n",
            "_________________________________________________________________\n",
            "block2_pool (MaxPooling2D)   (None, 56, 56, 128)       0         \n",
            "_________________________________________________________________\n",
            "block3_conv1 (Conv2D)        (None, 56, 56, 256)       295168    \n",
            "_________________________________________________________________\n",
            "block3_conv2 (Conv2D)        (None, 56, 56, 256)       590080    \n",
            "_________________________________________________________________\n",
            "block3_conv3 (Conv2D)        (None, 56, 56, 256)       590080    \n",
            "_________________________________________________________________\n",
            "block3_pool (MaxPooling2D)   (None, 28, 28, 256)       0         \n",
            "_________________________________________________________________\n",
            "block4_conv1 (Conv2D)        (None, 28, 28, 512)       1180160   \n",
            "_________________________________________________________________\n",
            "block4_conv2 (Conv2D)        (None, 28, 28, 512)       2359808   \n",
            "_________________________________________________________________\n",
            "block4_conv3 (Conv2D)        (None, 28, 28, 512)       2359808   \n",
            "_________________________________________________________________\n",
            "block4_pool (MaxPooling2D)   (None, 14, 14, 512)       0         \n",
            "_________________________________________________________________\n",
            "block5_conv1 (Conv2D)        (None, 14, 14, 512)       2359808   \n",
            "_________________________________________________________________\n",
            "block5_conv2 (Conv2D)        (None, 14, 14, 512)       2359808   \n",
            "_________________________________________________________________\n",
            "block5_conv3 (Conv2D)        (None, 14, 14, 512)       2359808   \n",
            "_________________________________________________________________\n",
            "block5_pool (MaxPooling2D)   (None, 7, 7, 512)         0         \n",
            "_________________________________________________________________\n",
            "flatten (Flatten)            (None, 25088)             0         \n",
            "_________________________________________________________________\n",
            "fc1 (Dense)                  (None, 4096)              102764544 \n",
            "=================================================================\n",
            "Total params: 117,479,232\n",
            "Trainable params: 117,479,232\n",
            "Non-trainable params: 0\n",
            "_________________________________________________________________\n",
            "input_10\n",
            "block1_conv1\n",
            "block1_conv2\n",
            "block1_pool\n",
            "block2_conv1\n",
            "block2_conv2\n",
            "block2_pool\n",
            "block3_conv1\n",
            "block3_conv2\n",
            "block3_conv3\n",
            "block3_pool\n",
            "block4_conv1\n",
            "block4_conv2\n",
            "block4_conv3\n",
            "block4_pool\n",
            "block5_conv1\n",
            "block5_conv2\n",
            "block5_conv3\n",
            "block5_pool\n",
            "flatten\n",
            "fc1\n",
            "fc2\n",
            "predictions\n"
          ],
          "name": "stdout"
        }
      ]
    },
    {
      "cell_type": "code",
      "metadata": {
        "id": "hycqaWfMlxVY",
        "colab": {
          "base_uri": "https://localhost:8080/"
        },
        "outputId": "a9f021c9-6778-4909-8278-4b59516d10ab"
      },
      "source": [
        "f = open(\"/content/drive/MyDrive/wiki_top10cats/wikipedia_dataset/trainset_txt_img_cat.list\",'r')\n",
        "ss = f.readlines()\n",
        "print(ss[0].split()[1])"
      ],
      "execution_count": null,
      "outputs": [
        {
          "output_type": "stream",
          "text": [
            "ceb47321a83dd824cec2d5d3f2034765\n"
          ],
          "name": "stdout"
        }
      ]
    },
    {
      "cell_type": "code",
      "metadata": {
        "id": "mGu1VeKb18vz"
      },
      "source": [
        "direct = '/content/drive/MyDrive/wiki_top10cats/wikipedia_dataset/images/'\n",
        "train_aa = np.empty([2173,4096])\n",
        "count = 0\n",
        "for i in range(len(ss)):\n",
        "  folder = ss[i].split()[2]\n",
        "  file_p = ss[i].split()[1]\n",
        "  path_p = direct+folder+'/'+file_p+'.jpg'\n",
        "  img = image.load_img(path_p,target_size=(224,224))\n",
        "  x = image.img_to_array(img)\n",
        "  x = np.expand_dims(x,axis=0)\n",
        "  x = preprocess_input(x)\n",
        "  features4096 = model.predict(x)\n",
        "  train_aa[count] = features4096\n",
        "  count+=1\n",
        "  print(i)\n",
        "  "
      ],
      "execution_count": null,
      "outputs": []
    },
    {
      "cell_type": "markdown",
      "metadata": {
        "id": "E9aKgvP-5DfW"
      },
      "source": [
        "##FOR TEST Images"
      ]
    },
    {
      "cell_type": "code",
      "metadata": {
        "colab": {
          "base_uri": "https://localhost:8080/"
        },
        "id": "WAl2Cfdk5B23",
        "outputId": "cf1b1764-241d-4b48-a0e0-c8a98190f524"
      },
      "source": [
        "f = open(\"/content/drive/MyDrive/wiki_top10cats/wikipedia_dataset/testset_txt_img_cat.list\",'r')\n",
        "ss = f.readlines()\n",
        "print(ss[0].split()[1])\n",
        "\n",
        "direct = '/content/drive/MyDrive/wiki_top10cats/wikipedia_dataset/images/'\n",
        "test_aa = np.empty([693,4096])\n",
        "count = 0\n",
        "for i in range(len(ss)):\n",
        "  folder = ss[i].split()[2]\n",
        "  file_p = ss[i].split()[1]\n",
        "  path_p = direct+folder+'/'+file_p+'.jpg'\n",
        "  img = image.load_img(path_p,target_size=(224,224))\n",
        "  x = image.img_to_array(img)\n",
        "  x = np.expand_dims(x,axis=0)\n",
        "  x = preprocess_input(x)\n",
        "  features4096 = model.predict(x)\n",
        "  test_aa[count] = features4096\n",
        "  count+=1\n",
        "  #print(i)"
      ],
      "execution_count": null,
      "outputs": [
        {
          "output_type": "stream",
          "text": [
            "7e214fda4b30c95084e94fbec71ebde1\n"
          ],
          "name": "stdout"
        }
      ]
    },
    {
      "cell_type": "code",
      "metadata": {
        "colab": {
          "base_uri": "https://localhost:8080/"
        },
        "id": "GaiX-Jz3E_CI",
        "outputId": "7df72d00-5a6c-45ce-9cbc-3271b7a74d03"
      },
      "source": [
        "print(train_aa.shape,test_aa.shape)"
      ],
      "execution_count": null,
      "outputs": [
        {
          "output_type": "stream",
          "text": [
            "(2173, 4096) (693, 4096)\n"
          ],
          "name": "stdout"
        }
      ]
    },
    {
      "cell_type": "code",
      "metadata": {
        "id": "RjE47HxBFI1A"
      },
      "source": [
        "#33333\n",
        "mdic = {\"I_tr_VGG16_fc1\": train_aa,\"I_te_VGG16_fc1\" : test_aa}\n",
        "savemat(\"Wikipedia_Images_VGG16_fc1.mat\", mdic)"
      ],
      "execution_count": null,
      "outputs": []
    },
    {
      "cell_type": "code",
      "metadata": {
        "id": "bIHhtVzpMXKn"
      },
      "source": [
        "for i in os.listdir('/content/drive/MyDrive/wiki_top10cats/wikipedia_dataset/images'):\n",
        "  print(i)\n",
        "  # img = image.load_img(img_path,target_size=(224,224))\n",
        "  # x = image.img_to_array(img)\n",
        "  # x = np.expand_dims(x,axis=0)\n",
        "  # x = preprocess_input(x)\n",
        "  # features4096 = model.predict(x)\n",
        "aa = np.empty([3000,4096])\n",
        "count = 0\n",
        "for root, dirs, files in (os.walk('/content/drive/MyDrive/wiki_top10cats/wikipedia_dataset/images')):\n",
        "     for file in files:\n",
        "        print(os.path.join(root, file))\n",
        "        # img = image.load_img(img_path,target_size=(224,224))\n",
        "        # x = image.img_to_array(img)\n",
        "        # x = np.expand_dims(x,axis=0)\n",
        "        # x = preprocess_input(x)\n",
        "        # features4096 = model.predict(x)\n",
        "        # aa[count] = features4096\n",
        "        # count+=1\n",
        "print(aa.shape)\n",
        "print(aa)"
      ],
      "execution_count": null,
      "outputs": []
    },
    {
      "cell_type": "code",
      "metadata": {
        "colab": {
          "base_uri": "https://localhost:8080/"
        },
        "id": "TqyH6rVM69Ac",
        "outputId": "20f0cb92-0ba9-4ca5-f160-b94986e76373"
      },
      "source": [
        "img_path = '/content/779acd9cdde268fb9435271b6030ee5a.jpg'\n",
        "img = image.load_img(img_path,target_size=(224,224))\n",
        "x = image.img_to_array(img)\n",
        "print(x.shape)"
      ],
      "execution_count": null,
      "outputs": [
        {
          "output_type": "stream",
          "text": [
            "(224, 224, 3)\n"
          ],
          "name": "stdout"
        }
      ]
    },
    {
      "cell_type": "code",
      "metadata": {
        "colab": {
          "base_uri": "https://localhost:8080/"
        },
        "id": "x5i_t2B97fgu",
        "outputId": "5a793d1d-fcbc-4137-f142-65c8bccaa420"
      },
      "source": [
        "x = np.expand_dims(x,axis=0)\n",
        "print(x.shape)"
      ],
      "execution_count": null,
      "outputs": [
        {
          "output_type": "stream",
          "text": [
            "(1, 224, 224, 3)\n"
          ],
          "name": "stdout"
        }
      ]
    },
    {
      "cell_type": "code",
      "metadata": {
        "id": "3WHmmyyj7pdX"
      },
      "source": [
        "x = preprocess_input(x)"
      ],
      "execution_count": null,
      "outputs": []
    },
    {
      "cell_type": "code",
      "metadata": {
        "colab": {
          "base_uri": "https://localhost:8080/"
        },
        "id": "oZIyPZgF7vV7",
        "outputId": "f91e8814-8a51-46ef-8765-ccad5290acad"
      },
      "source": [
        "print(x.shape)"
      ],
      "execution_count": null,
      "outputs": [
        {
          "output_type": "stream",
          "text": [
            "(1, 224, 224, 3)\n"
          ],
          "name": "stdout"
        }
      ]
    },
    {
      "cell_type": "code",
      "metadata": {
        "id": "iUVkjEnw7xNT"
      },
      "source": [
        "features4096 = model.predict(x)"
      ],
      "execution_count": null,
      "outputs": []
    },
    {
      "cell_type": "code",
      "metadata": {
        "colab": {
          "base_uri": "https://localhost:8080/"
        },
        "id": "BtTdmB6V74DW",
        "outputId": "3e4f3b5c-083b-415c-e781-2db4d0f71c7d"
      },
      "source": [
        "print(features4096.shape)\n",
        "print(features4096)"
      ],
      "execution_count": null,
      "outputs": [
        {
          "output_type": "stream",
          "text": [
            "(1, 4096)\n",
            "[[2.3727403  0.         0.         ... 0.         0.         0.21543276]]\n"
          ],
          "name": "stdout"
        }
      ]
    },
    {
      "cell_type": "code",
      "metadata": {
        "id": "Dc9pBf-2EemK"
      },
      "source": [
        "mdic = {\"I_tr_VGG16\": aa}"
      ],
      "execution_count": null,
      "outputs": []
    },
    {
      "cell_type": "code",
      "metadata": {
        "colab": {
          "base_uri": "https://localhost:8080/"
        },
        "id": "naxujalVGw-F",
        "outputId": "bae0861b-25b0-4b9c-ed33-48f3f9956b2e"
      },
      "source": [
        "mdic"
      ],
      "execution_count": null,
      "outputs": [
        {
          "output_type": "execute_result",
          "data": {
            "text/plain": [
              "{'a': array([[2.3727403 , 0.        , 0.        , ..., 0.        , 0.        ,\n",
              "         0.21543276]], dtype=float32)}"
            ]
          },
          "metadata": {
            "tags": []
          },
          "execution_count": 17
        }
      ]
    },
    {
      "cell_type": "code",
      "metadata": {
        "id": "8vvV0dAIGzVu"
      },
      "source": [
        "savemat(\"I_tr_VGG16.mat\", mdic)"
      ],
      "execution_count": null,
      "outputs": []
    },
    {
      "cell_type": "code",
      "metadata": {
        "id": "doDM9lXhG41T"
      },
      "source": [
        ""
      ],
      "execution_count": null,
      "outputs": []
    }
  ]
}